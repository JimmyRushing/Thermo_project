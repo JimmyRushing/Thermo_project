{
 "cells": [
  {
   "cell_type": "code",
   "execution_count": 1,
   "id": "a9d1ee53",
   "metadata": {},
   "outputs": [],
   "source": [
    "import numpy as np\n",
    "import random\n",
    "import matplotlib.pyplot as plt\n",
    "import matplotlib.image as im\n",
    "import os\n",
    "from PIL import Image\n",
    "import glob\n",
    "from pylab import arange\n",
    "from scipy.ndimage import measurements"
   ]
  },
  {
   "cell_type": "code",
   "execution_count": 2,
   "id": "52ba41c8",
   "metadata": {},
   "outputs": [],
   "source": [
    "class System:\n",
    "    '''this should track all atributes of the system'''\n",
    "    \n",
    "    def __init__(\n",
    "        self,\n",
    "        grid_size,\n",
    "    ):\n",
    "        #intitialize the grid as all solvent in the specified \n",
    "        #grid size\n",
    "        self.data = np.zeros((grid_size,grid_size), dtype = int)\n",
    "        self.polymers = []\n",
    "        self.trajectory = []\n",
    "        \n",
    "    def add_polymers(self, polymer_number, polymer_length):\n",
    "        \n",
    "        polymer_list = []\n",
    "        \n",
    "        for i in range(polymer_number):\n",
    "        \n",
    "            polymer = Polymer(self.data,i+1,polymer_length)\n",
    "           \n",
    "            polymer_list.append(polymer)\n",
    "            for cell in polymer.polymer_locations:\n",
    "                self.data[cell[0]][cell[1]] = i+1\n",
    "            self.polymers = polymer_list    \n",
    "            \n",
    "    def wriggle(self, number_of_wriggles):\n",
    "        \n",
    "        for number in range(number_of_wriggles):\n",
    "            system_data = self.data\n",
    "            random_poly = random.randint(0,len(self.polymers)-1)\n",
    "            #polymer.neighbor_list()\n",
    "            self.polymers[random_poly].make_a_move(system_data)\n",
    "            self.update_system_data()\n",
    "            \n",
    "    def return_new_polymers(self, number_of_wriggles):\n",
    "        \n",
    "        #for number in range(number_of_wriggles):\n",
    "        #    system_data = self.data\n",
    "        #    random_poly = random.randint(0,len(self.polymers)-1)\n",
    "        #    #polymer.neighbor_list()\n",
    "        #    self.polymers[random_poly].make_a_move(system_data)\n",
    "        #    self.update_system_data()    \n",
    "        new_polymers = self.polymers\n",
    "        temp_system = System(len(self.data[0]))\n",
    "        temp_system.polymers = new_polymers\n",
    "        temp_system.update_system_data()\n",
    "        for number in range(number_of_wriggles):\n",
    "            system_data = temp_system.data\n",
    "            random_poly = random.randint(0,len(self.polymers)-1)\n",
    "            temp_system.polymers[random_poly].make_a_move(system_data)\n",
    "            temp_system.update_system_data()\n",
    "            temp_system.polymers\n",
    "        return temp_system.polymers\n",
    "    \n",
    "    def update_system_data(self):\n",
    "        grid_size = len(self.data[0])\n",
    "        #self.trajectory.append(self.data)\n",
    "        self.data = np.zeros((grid_size,grid_size), dtype = int)\n",
    "        for polymer in self.polymers:\n",
    "            for x in range(len(polymer.polymer_dict)):\n",
    "                cell = polymer.polymer_dict[x]\n",
    "                self.data[cell[0]][cell[1]] = polymer.polymer_id\n",
    "\n",
    "                \n",
    "    def gif_the_system(self, period):\n",
    "        \n",
    "        if not os.path.exists('images'):\n",
    "            os.makedirs('images')\n",
    "            \n",
    "           \n",
    "    \n",
    "        for i,frame in enumerate(self.trajectory):\n",
    "                \n",
    "            \n",
    "            plt.figure(figsize=(10,10))\n",
    "            fig = plt.imshow(frame)\n",
    "            fig.figure.savefig(\"images/_\" + str(i))\n",
    "                \n",
    "\n",
    "        \n",
    "        frames = []\n",
    "        imgs = glob.glob(\"images/*.png\")\n",
    "        for i in imgs:\n",
    "            new_frame = Image.open(i)\n",
    "            frames.append(new_frame)\n",
    "\n",
    "        # Save into a GIF file that loops forever\n",
    "        frames[0].save('trajectory.gif', format='GIF',\n",
    "                       append_images=frames[1:],\n",
    "                       save_all=True,\n",
    "                       duration=3000, loop=0)\n",
    "    \n",
    "    \n",
    "    def system_energy(self):\n",
    "        \"computes system energy from aggregating polymer energy\"\n",
    "        \n",
    "        system_occupency = 0\n",
    "        \n",
    "        for polymer in self.polymers:\n",
    "            \n",
    "            polymer.neighbor_list(self.data)\n",
    "            \n",
    "            occupency = polymer.polymer_occupency\n",
    "          \n",
    "            system_occupency += occupency\n",
    "\n",
    "        return(system_occupency)\n",
    "    \n",
    "    \n",
    "    def return_largest_polymer_cluster_area(self):\n",
    "        data = self.data\n",
    "        new_data = self.data\n",
    "        length = len(self.data[0])\n",
    "        for i in range(length):\n",
    "            for j in range(length):\n",
    "                if data[i][j] != 0:\n",
    "                    new_data[i][j] = 1\n",
    "        lw, num = measurements.label(new_data)            \n",
    "        area = measurements.sum(new_data, lw, index=arange(lw.max() + 1))\n",
    "        max_polymer_area = np.max(area)\n",
    "    \n",
    "        #number_of_clusters = len(np.unique(area)) -1\n",
    "        average_cluster_size = np.mean(area)\n",
    "    \n",
    "        clusters = [i for i in area if i != 0]\n",
    "        number_of_clusters = len(clusters)\n",
    "        average_cluster_size = np.mean(clusters)\n",
    "    \n",
    "        return max_polymer_area,average_cluster_size,number_of_clusters\n",
    "    \n",
    "    \n",
    "    def return_largest_unoccupied_cluster_area(self):\n",
    "        data = self.data\n",
    "        new_data = self.data\n",
    "        length = len(self.data[0])\n",
    "        for i in range(length):\n",
    "            for j in range(length):\n",
    "                if data[i][j] != 0:\n",
    "                    new_data[i][j] = 5\n",
    "\n",
    "        for i in range(length):\n",
    "            for j in range(length):\n",
    "                if new_data[i][j] == 0:\n",
    "                    new_data[i][j] = 1                    \n",
    "                    \n",
    "        for i in range(length):\n",
    "            for j in range(length):\n",
    "                if new_data[i][j] == 5:\n",
    "                    new_data[i][j] = 0                          \n",
    "                    \n",
    "                    \n",
    "        lw, num = measurements.label(new_data)            \n",
    "        area = measurements.sum(new_data, lw, index=arange(lw.max() + 1))\n",
    "        max_polymer_area = np.max(area)\n",
    "    \n",
    "        #number_of_clusters = len(np.unique(area)) -1\n",
    "        average_cluster_size = np.mean(area)\n",
    "    \n",
    "        clusters = [i for i in area if i != 0]\n",
    "        number_of_clusters = len(clusters)\n",
    "        average_cluster_size = np.mean(clusters)\n",
    "    \n",
    "        return max_polymer_area,average_cluster_size,number_of_clusters    "
   ]
  },
  {
   "cell_type": "code",
   "execution_count": 3,
   "id": "4bba4ada",
   "metadata": {},
   "outputs": [],
   "source": [
    "class Polymer:\n",
    "    \n",
    "    '''This class should track everything relevant to the polymer\n",
    "    \n",
    "    This should inlcude where it is. Wether is is A type or B (A and B being polymer type or solvent type \n",
    "    type. How many adjacent cells are occupied by monnomers of type A or B. And from this,\n",
    "    its contribution the total energy, \n",
    "    \n",
    "    '''\n",
    "    \n",
    "    def __init__(\n",
    "        self,\n",
    "        system_data,\n",
    "        polymer_id,\n",
    "        polymer_length\n",
    "    ):\n",
    "        self.polymer_locations =[]\n",
    "        self.polymer_end_locations = []\n",
    "        self.polymer_neighbors = []\n",
    "        self.polymer_neighbors_not_inclusive = []\n",
    "        self.polymer_id = polymer_id\n",
    "        self.polymer_dict = {}\n",
    "        self.polymer_occupency =[]\n",
    "        \n",
    "        \n",
    "        empty = True\n",
    "        edge_length = len(system_data[0])\n",
    "        \n",
    "        #grabs an empty cell at the top\n",
    "        while empty == True:\n",
    "            y = random.randint(0,edge_length-1)\n",
    "            if system_data[0][y] == 0:\n",
    "                system_data[0][y] = polymer_id\n",
    "                empty = False\n",
    "            \n",
    "        self.polymer_end_locations.append([0,y])\n",
    "        self.polymer_end_locations.append([polymer_length,y])\n",
    "        \n",
    "        for i in range(polymer_length):\n",
    "            self.polymer_dict[i] = [i,y]\n",
    "            self.polymer_locations.append([i,y])\n",
    " \n",
    "        self.energy = None\n",
    "        \n",
    "    #def neighbor_occupency(self):\n",
    "    #    \n",
    "    #    \"\"\"compute neighbor occupency\"\"\"\n",
    "    #    \n",
    "    #    #build neighborlist first\n",
    "    #    #for every cell in the the neighborhood , if the id in the cell\n",
    "    #    # is not 0 or self.id then self.neighbor_occupancy += 1abs\n",
    "    #    neighbors = self.neighbor_list()\n",
    "    #    occupency = 0\n",
    "    #    for neighbor in neighbors:\n",
    "    #        if system_data[neighbor[0]][neighbor[1]] != 0:\n",
    "    #            occupency += 1\n",
    "    #            \n",
    "    #    self.polymer_occupency = occupency\n",
    "    #    return occupency\n",
    "#\n",
    "        \n",
    "    def neighbor_list(self,system_data):\n",
    "        \n",
    "        '''This function should take a polymer and return a list of its neighbors'''\n",
    "        \n",
    "        neighbors = []\n",
    "        \"\"\"\n",
    "        for cell in self.polymer_locations:\n",
    "            x = cell[0]\n",
    "            y = cell[1]\n",
    "            \n",
    "            cell_neighbors = [[x,y-1],[x+1,y],[x-1,y],[x,y+1],]\n",
    "            cell_neighbors_in_box = []\n",
    "            \n",
    "            edge_length = len(system_data[0])\n",
    "            \n",
    "            for neighbor in cell_neighbors:\n",
    "                if (neighbor[0] >= 0 and neighbor[0] <= edge_length-1) and (neighbor[1] >= 0 and neighbor[1] <= edge_length-1):\n",
    "                    neighbors.append(neighbor)\n",
    "                    \n",
    "        \"\"\"\n",
    "        \n",
    "        length = len(self.polymer_dict)\n",
    "        \n",
    "        for i in range(length):\n",
    "            \n",
    "            x = self.polymer_dict[i][0]\n",
    "            y = self.polymer_dict[i][1]\n",
    "            \n",
    "            cell_neighbors = [[x,y-1],[x+1,y],[x-1,y],[x,y+1],]\n",
    "\n",
    "            \n",
    "\n",
    "            \n",
    "            for neighbor in cell_neighbors:\n",
    "                #add neihbors to list if they in the bounds of the box\n",
    "                if (neighbor[0] >= 0 and neighbor[0] <= length-1) and (neighbor[1] >= 0 and neighbor[1] <= length-1):\n",
    "                    neighbors.append(neighbor) \n",
    "                    #dont add bonded neighbors\n",
    "                    #if (neighbor[0] != self.polymer_dict[i-1][0] and neighbor[1] != self.polymer_dict[i-1][1]) and (neighbor[0] != self.polymer_dict[i+1][0] and neighbor[1] != self.polymer_dict[i+1][1]):\n",
    "                     #   neighbors.append(neighbor)            \n",
    "        \n",
    "            \n",
    "        \n",
    "                try:\n",
    "                    if neighbor[0] == self.polymer_dict[i-1][0] and neighbor[1] == self.polymer_dict[i-1][1]:\n",
    "                        neighbors.remove(neighbor)\n",
    "                except:\n",
    "                    KeyError\n",
    "                try:\n",
    "                    if neighbor[0] == self.polymer_dict[i+1][0] and neighbor[1] == self.polymer_dict[i+1][1]:\n",
    "                        neighbors.remove(neighbor)\n",
    "                except:\n",
    "                    KeyError \n",
    "        \n",
    "\n",
    "        #for j in neighbors:      \n",
    "        #    \n",
    "        #    if system_data[j[0]][j[1]] != self.polymer_id:\n",
    "        #        duplicates_included.append(j)  \n",
    "                \n",
    "        \n",
    "        \n",
    "        #duplicates_removed = []\n",
    "        #   \n",
    "        #self.polymer_neighbors = duplicates_included\n",
    "        #\n",
    "        #occupency = 0\n",
    "        #\n",
    "        #for neighbor in duplicates_included:\n",
    "        #    if system_data[neighbor[0]][neighbor[1]] != 0 and system_data[neighbor[0]][neighbor[1]] != self.polymer_id:\n",
    "        #        occupency += 1\n",
    "        #    \n",
    "        #self.polymer_occupency = occupency\n",
    "        occupency = 0\n",
    "        self.polymer_neighbors = neighbors\n",
    "        for neighbor in neighbors:\n",
    "            if system_data[neighbor[0]][neighbor[1]] != 0:\n",
    "                occupency += 1        \n",
    "        self.polymer_occupency = occupency\n",
    "        return neighbors\n",
    "\n",
    "    def make_a_move(self,system_data):\n",
    "        \n",
    "        \n",
    "        ''' From a list of allowable moves pick one randomly and execute it'''\n",
    "        \n",
    "        end_locations = self.polymer_end_locations\n",
    "\n",
    "        coin_flip = random.randint(0,1)\n",
    "\n",
    "\n",
    "        \n",
    "        if coin_flip == 0:\n",
    "            #move the front of the polymer \n",
    "            head_cell = self.polymer_dict[0]\n",
    "            x = head_cell[0]\n",
    "            y = head_cell[1]\n",
    "            \n",
    "            cell_neighbors = [[x,y-1],[x+1,y],[x-1,y],[x,y+1]]\n",
    "            cell_neighbors_in_box = []\n",
    "            \n",
    "            edge_length = len(system_data[0])\n",
    "            \n",
    "            for neighbor in cell_neighbors:\n",
    "                if (neighbor[0] >= 0 and neighbor[0] <= edge_length-1) and (neighbor[1] >= 0 and neighbor[1] <= edge_length-1):\n",
    "                    cell_neighbors_in_box.append(neighbor)\n",
    "                \n",
    "            neighbor_zeros = []\n",
    "            \n",
    "            for j in cell_neighbors_in_box:\n",
    "                if system_data[j[0]][j[1]] == 0:\n",
    "                    neighbor_zeros.append(j) \n",
    "            \n",
    "            #this just checks that neighbore_zeros isnt empty\n",
    "            if neighbor_zeros:\n",
    "                \n",
    "                new_head_cell = neighbor_zeros[random.randint(0,len(neighbor_zeros)-1)]\n",
    "                length = len(self.polymer_locations)\n",
    "                \n",
    "                dict = {}\n",
    "                for i in range(length - 1):\n",
    "                    dict[i+1] = self.polymer_dict[i]\n",
    "         \n",
    "                for k in range(1, length):\n",
    "                    self.polymer_dict[k] = dict[k]\n",
    "                self.polymer_dict[0] = new_head_cell    \n",
    "                self.polymer_locations = []\n",
    "                for x in range(length):\n",
    "                    self.polymer_locations.append(self.polymer_dict[x])\n",
    "              \n",
    "                    \n",
    "        if coin_flip == 1:\n",
    "        #move the back of the polymer\n",
    "   \n",
    "            length = len(self.polymer_dict)\n",
    "            tail_cell = self.polymer_dict[length - 1]\n",
    "            x = tail_cell[0]\n",
    "            y = tail_cell[1]\n",
    "            \n",
    "            cell_neighbors = [[x,y-1],[x+1,y],[x-1,y],[x,y+1]]\n",
    "            cell_neighbors_in_box = []     \n",
    "            \n",
    "            edge_length = len(system_data[0])\n",
    "            \n",
    "            for neighbor in cell_neighbors:\n",
    "                if (neighbor[0] >= 0 and neighbor[0] <= edge_length-1) and (neighbor[1] >= 0 and neighbor[1] <= edge_length-1):\n",
    "                    cell_neighbors_in_box.append(neighbor)\n",
    "                \n",
    "            neighbor_zeros = []\n",
    "            \n",
    "            for j in cell_neighbors_in_box:\n",
    "                if system_data[j[0]][j[1]] == 0:\n",
    "                    neighbor_zeros.append(j)        \n",
    "            \n",
    "            if neighbor_zeros:\n",
    "                \n",
    "                new_tail_cell = random.choice(neighbor_zeros)\n",
    "       \n",
    "                \n",
    "                temp_dict = {}\n",
    "              \n",
    "                for i in range(edge_length - 1):\n",
    "                    temp_dict[i] = self.polymer_dict[i + 1]\n",
    "                    \n",
    "                self.polymer_dict = temp_dict                   \n",
    "                    \n",
    "                self.polymer_dict[edge_length-1] = new_tail_cell    \n",
    "                self.polymer_locations = []\n",
    "              \n",
    "               \n",
    "                for x in range(edge_length):\n",
    "                    self.polymer_locations.append(self.polymer_dict[x])        \n",
    "                    \n",
    "        if coin_flip == 2:\n",
    "        \n",
    "            index_list = list(range(1,len(self.polymer_dict)-1))\n",
    "\n",
    "            index_list_redux = []\n",
    "            for cell_index in index_list:\n",
    "                cell = self.polymer_dict[cell_index]\n",
    "                x = cell[0]\n",
    "                y = cell[1]\n",
    "                x_0 = self.polymer_dict[cell_index-1][0]\n",
    "                x_1 = self.polymer_dict[cell_index+1][0]\n",
    "                y_0 = self.polymer_dict[cell_index-1][1]\n",
    "                y_1 = self.polymer_dict[cell_index+1][1]\n",
    "                \n",
    "                if (x_0 == x and x_1 == x) and ((system_data[x-1][y-1]==0 and system_data[x-1][y]==0 and system_data[x-1][y+1]==0)or(system_data[x+1][y-1]==0 and system_data[x+1][y]==0 and system_data[x+1][y+1]==0)):\n",
    "                    index_list_redux.append(cell_index)\n",
    "                if (y_0 == y and y_1 == y) and ((system_data[x-1][y-1]==0 and system_data[x][y-1]==0 and system_data[x+1][y-1]==0)or(system_data[x-1][y+1]==0 and system_data[x][y+1]==0 and system_data[x+1][y+1]==0)):\n",
    "                    index_list_redux.append(cell_index)\n",
    "                    \n",
    "            k = random.choice(index_list_redux)\n",
    "            cell = self.polymer_dict[k]\n",
    "            x_0 = self.polymer_dict[k-1][0]\n",
    "            x_1 = self.polymer_dict[k+1][0]\n",
    "            y_0 = self.polymer_dict[k-1][1]\n",
    "            y_1 = self.polymer_dict[k+1][1]\n",
    "            \n",
    "            \n",
    "            \n",
    "            if (x_0 == x and x_1 == x) and ((system_data[x-1][y-1]==0 and system_data[x-1][y]==0 and system_data[x-1][y+1]==0)or(system_data[x+1][y-1]==0 and system_data[x+1][y]==0 and system_data[x+1][y+1]==0)):\n",
    "                \n",
    "                if system_data[x-1][y-1]==0 and system_data[x-1][y]==0 and system_data[x-1][y+1]==0:\n",
    "                    temp_dict = {}\n",
    "                    temp_dict[k] = [x,y-1]\n",
    "                    temp_dict[k - 1] = [x-1,y-1]\n",
    "                    temp_dict[k + 1] = [x+1,y-1]\n",
    "                    \n",
    "                    for i in range(0,k -1):\n",
    "                        temp_dict[i] = self.polymer_dict[i+1]\n",
    "                    for j in range(k + 2, len(self.polymer_dict)):\n",
    "                        temp_dict[j] = self.polymer_dict[j-1]\n",
    "                    self.polymer_dict = temp_dict\n",
    "                    self.polymer_locations = []\n",
    "                    for index in range(0,len(self.polymer_dict)):\n",
    "                        self.polymer_locations.append(self.polymer_dict[index])      \n",
    "                else:\n",
    "                    temp_dict = {}\n",
    "                    temp_dict[k] = [x,y+1]\n",
    "                    temp_dict[k - 1] = [x-1,y+1]\n",
    "                    temp_dict[k + 1] = [x+1,y+1]\n",
    "                    for i in range(0,k -1):\n",
    "                        temp_dict[i] = self.polymer_dict[i+1]\n",
    "                    for j in range(k + 2, len(self.polymer_dict)-1):\n",
    "                        temp_dict[j] = self.polymer_dict[j-1]     \n",
    "                    self.polymer_dict = temp_dict\n",
    "                    self.polymer_locations = []\n",
    "                    for index in range(0,len(self.polymer_dict)):\n",
    "                        self.polymer_locations.append(self.polymer_dict[index])     \n",
    "\n",
    "                \n",
    "            else:\n",
    "                if system_data[x-1][y-1]==0 and system_data[x][y-1]==0 and system_data[x+1][y-1]==0:\n",
    "                    \n",
    "                    temp_dict = {}\n",
    "                    temp_dict[k] = [x+1,y]\n",
    "                    temp_dict[k - 1] = [x+1,y-1]\n",
    "                    temp_dict[k + 1] = [x+1,y+1]\n",
    "                    for i in range(0,k -1):\n",
    "                        temp_dict[i] = self.polymer_dict[i+1]\n",
    "                    for j in range(k + 2, len(self.polymer_dict)-1):\n",
    "                        temp_dict[j] = self.polymer_dict[j-1]          \n",
    "                    self.polymer_dict = temp_dict\n",
    "                    self.polymer_locations = []\n",
    "                    for index in range(0,len(self.polymer_dict)):\n",
    "                        self.polymer_locations.append(self.polymer_dict[index]) \n",
    "                        \n",
    "                else:\n",
    "                    temp_dict = {}\n",
    "                    temp_dict[k] = [x,y+1]\n",
    "                    temp_dict[k - 1] = [x-1,y+1]\n",
    "                    temp_dict[k + 1] = [x+1,y+1]\n",
    "                    for i in range(0,k -1):\n",
    "                        temp_dict[i] = self.polymer_dict[i+1]\n",
    "                    for j in range(k + 2, len(self.polymer_dict)-1):\n",
    "                        temp_dict[j] = self.polymer_dict[j-1]     \n",
    "                    self.polymer_dict = temp_dict\n",
    "                    self.polymer_locations = []\n",
    "                    for index in range(0,len(self.polymer_dict)):\n",
    "                        self.polymer_locations.append(self.polymer_dict[index])                       \n",
    "\n",
    "\n",
    "\n",
    "         \n",
    "            \n",
    "            \n",
    "            \n",
    "            \n",
    "            \n",
    "#'''       \n",
    "#            index_list = list(range(1,len(self.polymer_dict)-1))\n",
    "#            print(\"index_list\"+str(index_list))\n",
    "#            random.shuffle(index_list)\n",
    "#\n",
    "#            for cell_index in index_list:\n",
    "#                \n",
    "#                cell = self.polymer_dict[cell_index]\n",
    "#                x = cell[0]\n",
    "#                y = cell[1]\n",
    "#                \n",
    "#                if system_data[x-1][y] == self.polymer_id and system_data[x+1][y] == self.polymer_id:\n",
    "#                    \n",
    "#                    #need to make sure that the monomer next door is bonded to cell_index guy\n",
    "#                    \n",
    "#                    bonded_cell_1 = self.polymer_dict[cell_index - 1]\n",
    "#                    bonded_cell_2 = self.polymer_dict[cell_index + 1]\n",
    "#                    x_0 = bonded_cell_1[0]\n",
    "#                    x_1 = bonded_cell_2[0]\n",
    "#                    \n",
    "#                    if (x_0 == x-1 or x_0 == x+1) and (x_1 == x-1 or x_1 == x+1):\n",
    "#                    \n",
    "#                        \n",
    "#                        if system_data[x-1][y-1] == 0 and system_data[x][y-1] == 0 and system_data[x+1][y-1] == 0:\n",
    "#                            \n",
    "#                            temp_dict = {}\n",
    "#                            temp_dict[cell_index] = [x,y-1]\n",
    "#                            temp_dict[cell_index - 1] = [x-1,y-1]\n",
    "#                            temp_dict[cell_index + 1] = [x+1,y-1]\n",
    "#                            \n",
    "#                            for i in range(0,cell_index -1):\n",
    "#                                temp_dict[i] = self.polymer_dict[i+1]\n",
    "#                            for j in range(cell_index + 2, len(self.polymer_dict)):\n",
    "#                                temp_dict[j] = self.polymer_dict[j-1]\n",
    "#                                \n",
    "#                            self.polymer_dict = temp_dict\n",
    "#                            self.polymer_locations = []\n",
    "#                            for index in range(0,len(self.polymer_dict)):\n",
    "#                                self.polymer_locations.append(self.polymer_dict[index])                       \n",
    "#                            break\n",
    "#                        \n",
    "#                        if system_data[x-1][y+1] == 0 and system_data[x][y+1] == 0 and system_data[x+1][y+1] == 0:\n",
    "#                            \n",
    "#                            temp_dict = {}\n",
    "#                            temp_dict[cell_index] = [x,y+1]\n",
    "#                            temp_dict[cell_index - 1] = [x-1,y+1]\n",
    "#                            temp_dict[cell_index + 1] = [x+1,y+1]\n",
    "#                            \n",
    "#                            for i in range(0,cell_index -1):\n",
    "#                                temp_dict[i] = self.polymer_dict[i+1]\n",
    "#                            for j in range(cell_index + 2, len(self.polymer_dict)-1):\n",
    "#                                temp_dict[j] = self.polymer_dict[j-1]     \n",
    "#                                \n",
    "#                                \n",
    "#                            print(\"polymer_dict : \"+ str(temp_dict))\n",
    "#                            self.polymer_dict = temp_dict\n",
    "#                            self.polymer_locations = []\n",
    "#                            for index in range(0,len(self.polymer_dict)):\n",
    "#                                self.polymer_locations.append(self.polymer_dict[index])     \n",
    "#                            print(\"polymer_locations: \"+str(self.polymer_locations))\n",
    "#                            break\n",
    "#                        \n",
    "#                if system_data[x][y-1] == self.polymer_id and system_data[x][y+1] == self.polymer_id:\n",
    "#                    \n",
    "#                    bonded_cell_1 = self.polymer_dict[cell_index - 1]\n",
    "#                    bonded_cell_2 = self.polymer_dict[cell_index + 1]\n",
    "#                    y_0 = bonded_cell_1[1]\n",
    "#                    y_1 = bonded_cell_2[1]\n",
    "#                    \n",
    "#                    if (y_0 == y-1 or y_0 == y+1) and (y_1 == y-1 or y_1 == y+1):\n",
    "#                    \n",
    "#                \n",
    "#                        if system_data[x-1][y-1] == 0 and system_data[x-1][y]== 0 and system_data[x-1][y+1]== 0:\n",
    "#                            \n",
    "#                            temp_dict = {}\n",
    "#                            temp_dict[cell_index] = [x-1,y]\n",
    "#                            temp_dict[cell_index - 1] = [x-1,y-1]\n",
    "#                            temp_dict[cell_index + 1] = [x-1,y+1]\n",
    "#                            \n",
    "#                            for i in range(0,cell_index -1):\n",
    "#                                temp_dict[i] = self.polymer_dict[i+1]\n",
    "#                            for j in range(cell_index + 2, len(self.polymer_dict)-1):\n",
    "#                                temp_dict[j] = self.polymer_dict[j-1]       \n",
    "#                                \n",
    "#                            self.polymer_dict = temp_dict\n",
    "#                            self.polymer_locations = []\n",
    "#                            for index in range(0,len(self.polymer_dict)):\n",
    "#                                self.polymer_locations.append(self.polymer_dict[index])  \n",
    "#                            break\n",
    "#                        \n",
    "#                        if system_data[x+1][y-1] == 0 and system_data[x+1][y]== 0 and system_data[x+1][y+1]== 0:\n",
    "#                            \n",
    "#                            temp_dict = {}\n",
    "#                            temp_dict[cell_index] = [x+1,y]\n",
    "#                            temp_dict[cell_index - 1] = [x+1,y-1]\n",
    "#                            temp_dict[cell_index + 1] = [x+1,y+1]\n",
    "#                            \n",
    "#                            for i in range(0,cell_index -1):\n",
    "#                                temp_dict[i] = self.polymer_dict[i+1]\n",
    "#                            for j in range(cell_index + 2, len(self.polymer_dict)-1):\n",
    "#                                temp_dict[j] = self.polymer_dict[j-1]          \n",
    "#                                \n",
    "#                            self.polymer_dict = temp_dict\n",
    "#                            self.polymer_locations = []\n",
    "#                                \n",
    "#                            for index in range(0,len(self.polymer_dict)):\n",
    "#                                self.polymer_locations.append(self.polymer_dict[index])\n",
    "#                     \n",
    "#                            break\n",
    "#       '''\n",
    "#            \n",
    "#\n",
    "#"
   ]
  },
  {
   "cell_type": "code",
   "execution_count": 4,
   "id": "633bbd8b",
   "metadata": {},
   "outputs": [],
   "source": [
    "class Simulation:\n",
    "    def __init__(\n",
    "        self,\n",
    "        grid_size,\n",
    "        number_of_polymers,\n",
    "        length_of_polymers,\n",
    "        warm_up_steps,\n",
    "        wriggles_per_step,\n",
    "        steps,\n",
    "        write,\n",
    "        kt\n",
    "    ):    \n",
    "        self.system = System(grid_size)\n",
    "        self.system.add_polymers(number_of_polymers, length_of_polymers)\n",
    "        self.system.wriggle(warm_up_steps)\n",
    "        self.system.update_system_data()\n",
    "        \n",
    "        self.potential_energy = []\n",
    "        self.grid_size= grid_size\n",
    "        self.number_of_polymers=number_of_polymers\n",
    "        self.length_of_polymers=length_of_polymers\n",
    "        self.warm_up_steps = warm_up_steps\n",
    "        self.wriggles_per_step = wriggles_per_step\n",
    "        self.steps = steps\n",
    "        self.write = write\n",
    "        self.kt = kt\n",
    "        \n",
    "    def run(self):\n",
    "        grid_size = self.grid_size\n",
    "        number_of_polymers=self.number_of_polymers\n",
    "        length_of_polymers=self.length_of_polymers\n",
    "        warm_up_steps=self.warm_up_steps\n",
    "        wriggles_per_step=self.wriggles_per_step\n",
    "        steps=self.steps\n",
    "        write=self.write\n",
    "        kt=self.kt\n",
    "        \n",
    "        temp_system = self.system\n",
    "        self.potential_energy.append(self.system.system_energy())\n",
    "        \n",
    "        for i, step in enumerate(range(steps)):\n",
    "            \n",
    "            new_polymers = self.system.return_new_polymers(wriggles_per_step)\n",
    "            \n",
    "            temp_system = System(grid_size)\n",
    "            \n",
    "            temp_system.polymers = new_polymers\n",
    "            \n",
    "            temp_system.update_system_data()\n",
    "            \n",
    "            delta_energy = temp_system.system_energy() - self.system.system_energy()\n",
    "            \n",
    "            if delta_energy <= 0:\n",
    "                #accept move\n",
    "                \n",
    "                if i % write ==0:\n",
    "                    self.system.trajectory.append(temp_system.data)\n",
    "                self.system.polymers = temp_system.polymers\n",
    "                self.system.update_system_data()\n",
    "                self.potential_energy.append(self.system.system_energy())\n",
    "                \n",
    "            elif random.uniform(0,1) < np.exp(1)**(-delta_energy/(kt*2)):\n",
    "                \n",
    "                if i % write ==0:\n",
    "                    self.system.trajectory.append(temp_system.data)\n",
    "                self.system.polymers = temp_system.polymers\n",
    "                self.system.update_system_data()\n",
    "                self.potential_energy.append(self.system.system_energy())\n",
    "                \n",
    "            else:\n",
    "                if i % write ==0:\n",
    "                    self.system.trajectory.append(self.system.data)\n",
    "                    self.system.update_system_data()\n",
    "                self.potential_energy.append(self.system.system_energy())    \n",
    "                \n",
    "                \n",
    "        \n",
    "        \n",
    "        \n",
    "        "
   ]
  },
  {
   "cell_type": "code",
   "execution_count": 5,
   "id": "95c4bca3",
   "metadata": {},
   "outputs": [
    {
     "name": "stdout",
     "output_type": "stream",
     "text": [
      "CPU times: user 2 µs, sys: 0 ns, total: 2 µs\n",
      "Wall time: 4.29 µs\n"
     ]
    }
   ],
   "source": [
    "%time\n",
    "sim = Simulation(grid_size=30,\n",
    "                 number_of_polymers = 15,\n",
    "                 length_of_polymers = 30,\n",
    "                 warm_up_steps = 1000,\n",
    "                 wriggles_per_step = 100,\n",
    "                 steps= 10001,\n",
    "                 write=1000,\n",
    "                 kt=4)"
   ]
  },
  {
   "cell_type": "code",
   "execution_count": 6,
   "id": "76b1efee",
   "metadata": {
    "tags": []
   },
   "outputs": [
    {
     "name": "stdout",
     "output_type": "stream",
     "text": [
      "CPU times: user 4min 41s, sys: 1.28 s, total: 4min 42s\n",
      "Wall time: 4min 44s\n"
     ]
    }
   ],
   "source": [
    "%%time\n",
    "sim.run()"
   ]
  },
  {
   "cell_type": "code",
   "execution_count": 7,
   "id": "1a7d18e2",
   "metadata": {},
   "outputs": [
    {
     "data": {
      "text/plain": [
       "(450.0, 450.0, 1)"
      ]
     },
     "execution_count": 7,
     "metadata": {},
     "output_type": "execute_result"
    }
   ],
   "source": [
    "sim.system.return_largest_polymer_cluster_area()"
   ]
  },
  {
   "cell_type": "code",
   "execution_count": 8,
   "id": "a7082a8c",
   "metadata": {},
   "outputs": [
    {
     "data": {
      "text/plain": [
       "array([[1, 1, 1, 0, 1, 1, 1, 1, 0, 0, 0, 1, 1, 0, 0, 0, 0, 0, 0, 0, 0, 0,\n",
       "        0, 0, 0, 1, 1, 1, 0, 0],\n",
       "       [1, 1, 1, 0, 1, 1, 1, 1, 0, 1, 1, 1, 1, 1, 0, 0, 0, 0, 0, 0, 0, 0,\n",
       "        0, 0, 0, 1, 0, 1, 0, 0],\n",
       "       [0, 1, 1, 1, 1, 1, 1, 1, 1, 1, 1, 0, 1, 1, 0, 0, 0, 0, 0, 0, 1, 1,\n",
       "        1, 1, 1, 1, 0, 1, 0, 0],\n",
       "       [0, 0, 1, 1, 1, 1, 1, 1, 0, 0, 1, 1, 1, 0, 0, 0, 0, 1, 0, 0, 1, 1,\n",
       "        1, 1, 1, 0, 0, 1, 1, 0],\n",
       "       [0, 0, 1, 1, 1, 1, 1, 0, 0, 0, 0, 0, 1, 1, 1, 1, 1, 1, 1, 1, 1, 1,\n",
       "        1, 1, 1, 1, 1, 1, 0, 0],\n",
       "       [0, 1, 1, 1, 1, 1, 1, 0, 0, 0, 0, 1, 1, 1, 1, 0, 1, 1, 1, 1, 1, 1,\n",
       "        1, 1, 1, 0, 0, 1, 0, 0],\n",
       "       [0, 1, 1, 1, 1, 0, 0, 0, 0, 0, 0, 0, 1, 1, 0, 0, 1, 1, 1, 1, 1, 1,\n",
       "        0, 0, 1, 0, 0, 1, 1, 1],\n",
       "       [1, 1, 0, 1, 1, 0, 0, 0, 0, 0, 0, 0, 1, 0, 0, 0, 1, 0, 1, 1, 0, 1,\n",
       "        1, 1, 1, 0, 0, 0, 1, 1],\n",
       "       [1, 1, 0, 1, 0, 0, 0, 0, 0, 0, 0, 0, 1, 1, 1, 0, 1, 1, 1, 1, 1, 1,\n",
       "        1, 1, 1, 1, 1, 1, 1, 0],\n",
       "       [0, 1, 0, 0, 0, 0, 0, 1, 0, 0, 0, 0, 1, 1, 1, 1, 1, 1, 1, 1, 1, 1,\n",
       "        0, 0, 0, 1, 1, 1, 1, 0],\n",
       "       [0, 1, 0, 1, 1, 1, 1, 1, 0, 0, 0, 0, 1, 1, 1, 1, 0, 0, 1, 1, 0, 1,\n",
       "        0, 0, 0, 1, 0, 0, 0, 0],\n",
       "       [0, 1, 1, 1, 1, 1, 1, 1, 0, 0, 0, 0, 1, 0, 0, 1, 1, 1, 1, 1, 1, 1,\n",
       "        0, 0, 0, 1, 1, 1, 1, 0],\n",
       "       [1, 1, 1, 1, 0, 0, 0, 0, 0, 0, 0, 0, 1, 0, 0, 1, 1, 1, 1, 1, 1, 0,\n",
       "        0, 0, 0, 0, 1, 1, 1, 0],\n",
       "       [1, 1, 0, 1, 0, 0, 0, 0, 0, 0, 0, 0, 1, 0, 0, 1, 1, 0, 1, 1, 0, 0,\n",
       "        0, 0, 0, 0, 0, 0, 0, 0],\n",
       "       [1, 1, 1, 1, 0, 0, 0, 0, 0, 0, 1, 1, 1, 0, 0, 0, 0, 0, 1, 1, 1, 1,\n",
       "        0, 0, 0, 0, 0, 0, 0, 0],\n",
       "       [1, 0, 1, 0, 0, 0, 1, 1, 1, 1, 1, 1, 0, 0, 0, 0, 0, 0, 1, 1, 1, 1,\n",
       "        1, 1, 0, 0, 0, 0, 0, 0],\n",
       "       [1, 0, 1, 1, 1, 1, 1, 1, 1, 1, 1, 1, 1, 0, 0, 0, 0, 0, 1, 1, 1, 1,\n",
       "        1, 1, 1, 0, 0, 0, 0, 0],\n",
       "       [1, 0, 0, 0, 0, 1, 1, 0, 0, 0, 1, 1, 1, 0, 0, 0, 0, 0, 0, 0, 0, 0,\n",
       "        1, 1, 1, 0, 0, 0, 0, 0],\n",
       "       [1, 1, 1, 0, 0, 0, 1, 0, 0, 0, 0, 1, 1, 0, 1, 1, 1, 1, 1, 1, 0, 0,\n",
       "        1, 1, 0, 0, 0, 0, 0, 0],\n",
       "       [1, 1, 1, 0, 0, 0, 1, 0, 0, 0, 1, 1, 1, 1, 1, 0, 1, 1, 0, 1, 1, 1,\n",
       "        1, 1, 1, 0, 0, 0, 0, 0],\n",
       "       [1, 0, 0, 0, 0, 0, 1, 1, 0, 0, 1, 1, 0, 1, 1, 0, 1, 1, 0, 1, 1, 1,\n",
       "        1, 1, 1, 0, 0, 0, 0, 0],\n",
       "       [1, 1, 1, 0, 0, 0, 0, 1, 1, 1, 1, 1, 0, 0, 0, 0, 0, 0, 0, 1, 0, 1,\n",
       "        0, 0, 0, 1, 1, 0, 0, 0],\n",
       "       [0, 1, 1, 0, 0, 0, 0, 0, 0, 1, 1, 1, 1, 0, 0, 0, 0, 0, 0, 1, 0, 1,\n",
       "        0, 0, 1, 1, 1, 0, 0, 0],\n",
       "       [0, 0, 0, 0, 0, 0, 0, 0, 0, 0, 1, 1, 1, 1, 1, 1, 0, 0, 1, 1, 1, 1,\n",
       "        1, 0, 1, 0, 0, 0, 0, 0],\n",
       "       [0, 0, 0, 0, 0, 0, 0, 0, 0, 0, 0, 1, 1, 1, 1, 1, 1, 1, 1, 0, 1, 0,\n",
       "        1, 1, 1, 0, 0, 0, 0, 0],\n",
       "       [0, 0, 0, 0, 0, 0, 0, 0, 0, 0, 0, 1, 1, 1, 1, 1, 1, 0, 0, 0, 1, 1,\n",
       "        1, 1, 1, 0, 0, 0, 0, 0],\n",
       "       [0, 0, 0, 0, 0, 0, 0, 0, 0, 0, 0, 1, 1, 1, 1, 1, 1, 1, 1, 1, 1, 0,\n",
       "        0, 0, 1, 1, 0, 0, 1, 1],\n",
       "       [1, 1, 0, 0, 0, 0, 0, 0, 0, 0, 0, 1, 1, 1, 1, 1, 1, 1, 0, 1, 1, 0,\n",
       "        0, 0, 0, 1, 1, 1, 1, 1],\n",
       "       [1, 1, 1, 1, 1, 1, 1, 1, 1, 1, 1, 1, 1, 1, 0, 0, 1, 1, 1, 1, 0, 0,\n",
       "        0, 1, 0, 1, 1, 1, 1, 1],\n",
       "       [0, 1, 1, 0, 0, 0, 1, 1, 1, 1, 1, 1, 0, 0, 0, 0, 1, 1, 1, 0, 0, 0,\n",
       "        0, 1, 1, 1, 1, 1, 0, 0]])"
      ]
     },
     "execution_count": 8,
     "metadata": {},
     "output_type": "execute_result"
    }
   ],
   "source": [
    "sim.system.update_system_data\n",
    "sim.system.data"
   ]
  },
  {
   "cell_type": "code",
   "execution_count": 9,
   "id": "4ed456e6",
   "metadata": {},
   "outputs": [
    {
     "data": {
      "text/plain": [
       "(95.0, 14.0625, 32)"
      ]
     },
     "execution_count": 9,
     "metadata": {},
     "output_type": "execute_result"
    }
   ],
   "source": [
    "sim.system.return_largest_unoccupied_cluster_area()"
   ]
  },
  {
   "cell_type": "code",
   "execution_count": 10,
   "id": "5d3c4e4d",
   "metadata": {},
   "outputs": [
    {
     "data": {
      "text/plain": [
       "<function matplotlib.pyplot.show(close=None, block=None)>"
      ]
     },
     "execution_count": 10,
     "metadata": {},
     "output_type": "execute_result"
    },
    {
     "data": {
      "image/png": "[encoded data removed]",
      "text/plain": [
       "<Figure size 432x288 with 1 Axes>"
      ]
     },
     "metadata": {
      "needs_background": "light"
     },
     "output_type": "display_data"
    }
   ],
   "source": [
    "plt.plot(sim.potential_energy)\n",
    "plt.show"
   ]
  },
  {
   "cell_type": "code",
   "execution_count": 22,
   "id": "2ea67314",
   "metadata": {},
   "outputs": [
    {
     "name": "stdout",
     "output_type": "stream",
     "text": [
      "(450.0, 450.0, 1)\n"
     ]
    },
    {
     "data": {
      "image/png": "[encoded data removed]",
      "text/plain": [
       "<Figure size 720x720 with 1 Axes>"
      ]
     },
     "metadata": {
      "needs_background": "light"
     },
     "output_type": "display_data"
    }
   ],
   "source": [
    "plt.figure(figsize=(10,10))\n",
    "fig= plt.imshow(sim.system.data)\n",
    "fig.figure.savefig(\"pleaseworkgood\")\n",
    "print(sim.system.return_largest_polymer_cluster_area())"
   ]
  },
  {
   "cell_type": "code",
   "execution_count": 11,
   "id": "2dce0259",
   "metadata": {},
   "outputs": [
    {
     "data": {
      "image/png": "[encoded data removed]",
      "text/plain": [
       "<Figure size 720x720 with 1 Axes>"
      ]
     },
     "metadata": {
      "needs_background": "light"
     },
     "output_type": "display_data"
    }
   ],
   "source": [
    "plt.figure(figsize=(10,10))\n",
    "fig= plt.imshow(sim.system.data)\n",
    "fig.figure.savefig(\"pleaseworkgood\")\n"
   ]
  },
  {
   "cell_type": "code",
   "execution_count": 159,
   "id": "9fe6fc5c",
   "metadata": {},
   "outputs": [],
   "source": [
    "cluster_size = []\n",
    "for k in range(len(sim.system.trajectory)):\n",
    "    cluster_size.append(return_largest_polymer_cluster_area(sim.system.trajectory[k]))"
   ]
  },
  {
   "cell_type": "code",
   "execution_count": 164,
   "id": "b82b1c9d",
   "metadata": {},
   "outputs": [
    {
     "data": {
      "text/plain": [
       "<function matplotlib.pyplot.show(close=None, block=None)>"
      ]
     },
     "execution_count": 164,
     "metadata": {},
     "output_type": "execute_result"
    },
    {
     "data": {
      "image/png": "[encoded data removed]",
      "text/plain": [
       "<Figure size 432x288 with 1 Axes>"
      ]
     },
     "metadata": {
      "needs_background": "light"
     },
     "output_type": "display_data"
    }
   ],
   "source": [
    "plt.plot(cluster_size)\n",
    "plt.show"
   ]
  },
  {
   "cell_type": "code",
   "execution_count": 8,
   "id": "305f8ad9",
   "metadata": {},
   "outputs": [
    {
     "ename": "KeyboardInterrupt",
     "evalue": "",
     "output_type": "error",
     "traceback": [
      "\u001b[0;31m---------------------------------------------------------------------------\u001b[0m",
      "\u001b[0;31mKeyboardInterrupt\u001b[0m                         Traceback (most recent call last)",
      "\u001b[0;32m<timed exec>\u001b[0m in \u001b[0;36m<module>\u001b[0;34m\u001b[0m\n",
      "\u001b[0;32m<ipython-input-4-14e705565e72>\u001b[0m in \u001b[0;36mrun\u001b[0;34m(self)\u001b[0m\n\u001b[1;32m     58\u001b[0m                 \u001b[0msystem\u001b[0m\u001b[0;34m.\u001b[0m\u001b[0mpolymers\u001b[0m \u001b[0;34m=\u001b[0m \u001b[0mtemp_system\u001b[0m\u001b[0;34m.\u001b[0m\u001b[0mpolymers\u001b[0m\u001b[0;34m\u001b[0m\u001b[0;34m\u001b[0m\u001b[0m\n\u001b[1;32m     59\u001b[0m                 \u001b[0msystem\u001b[0m\u001b[0;34m.\u001b[0m\u001b[0mupdate_system_data\u001b[0m\u001b[0;34m(\u001b[0m\u001b[0;34m)\u001b[0m\u001b[0;34m\u001b[0m\u001b[0;34m\u001b[0m\u001b[0m\n\u001b[0;32m---> 60\u001b[0;31m                 \u001b[0mself\u001b[0m\u001b[0;34m.\u001b[0m\u001b[0mpotential_energy\u001b[0m\u001b[0;34m.\u001b[0m\u001b[0mappend\u001b[0m\u001b[0;34m(\u001b[0m\u001b[0msystem\u001b[0m\u001b[0;34m.\u001b[0m\u001b[0msystem_energy\u001b[0m\u001b[0;34m(\u001b[0m\u001b[0;34m)\u001b[0m\u001b[0;34m)\u001b[0m\u001b[0;34m\u001b[0m\u001b[0;34m\u001b[0m\u001b[0m\n\u001b[0m\u001b[1;32m     61\u001b[0m \u001b[0;34m\u001b[0m\u001b[0m\n\u001b[1;32m     62\u001b[0m             \u001b[0;32melif\u001b[0m \u001b[0mrandom\u001b[0m\u001b[0;34m.\u001b[0m\u001b[0muniform\u001b[0m\u001b[0;34m(\u001b[0m\u001b[0;36m0\u001b[0m\u001b[0;34m,\u001b[0m\u001b[0;36m1\u001b[0m\u001b[0;34m)\u001b[0m \u001b[0;34m<\u001b[0m \u001b[0mnp\u001b[0m\u001b[0;34m.\u001b[0m\u001b[0mexp\u001b[0m\u001b[0;34m(\u001b[0m\u001b[0;36m1\u001b[0m\u001b[0;34m)\u001b[0m\u001b[0;34m**\u001b[0m\u001b[0;34m(\u001b[0m\u001b[0;34m-\u001b[0m\u001b[0mdelta_energy\u001b[0m\u001b[0;34m/\u001b[0m\u001b[0;34m(\u001b[0m\u001b[0mkt\u001b[0m\u001b[0;34m*\u001b[0m\u001b[0;36m2\u001b[0m\u001b[0;34m)\u001b[0m\u001b[0;34m)\u001b[0m\u001b[0;34m:\u001b[0m\u001b[0;34m\u001b[0m\u001b[0;34m\u001b[0m\u001b[0m\n",
      "\u001b[0;32m<ipython-input-2-210e1a0b7e7c>\u001b[0m in \u001b[0;36msystem_energy\u001b[0;34m(self)\u001b[0m\n\u001b[1;32m     96\u001b[0m         \u001b[0;32mfor\u001b[0m \u001b[0mpolymer\u001b[0m \u001b[0;32min\u001b[0m \u001b[0mself\u001b[0m\u001b[0;34m.\u001b[0m\u001b[0mpolymers\u001b[0m\u001b[0;34m:\u001b[0m\u001b[0;34m\u001b[0m\u001b[0;34m\u001b[0m\u001b[0m\n\u001b[1;32m     97\u001b[0m \u001b[0;34m\u001b[0m\u001b[0m\n\u001b[0;32m---> 98\u001b[0;31m             \u001b[0mpolymer\u001b[0m\u001b[0;34m.\u001b[0m\u001b[0mneighbor_list\u001b[0m\u001b[0;34m(\u001b[0m\u001b[0mself\u001b[0m\u001b[0;34m.\u001b[0m\u001b[0mdata\u001b[0m\u001b[0;34m)\u001b[0m\u001b[0;34m\u001b[0m\u001b[0;34m\u001b[0m\u001b[0m\n\u001b[0m\u001b[1;32m     99\u001b[0m \u001b[0;34m\u001b[0m\u001b[0m\n\u001b[1;32m    100\u001b[0m             \u001b[0moccupency\u001b[0m \u001b[0;34m=\u001b[0m \u001b[0mpolymer\u001b[0m\u001b[0;34m.\u001b[0m\u001b[0mpolymer_occupency\u001b[0m\u001b[0;34m\u001b[0m\u001b[0;34m\u001b[0m\u001b[0m\n",
      "\u001b[0;32m<ipython-input-3-9d204d278ec0>\u001b[0m in \u001b[0;36mneighbor_list\u001b[0;34m(self, system_data)\u001b[0m\n\u001b[1;32m     93\u001b[0m \u001b[0;34m\u001b[0m\u001b[0m\n\u001b[1;32m     94\u001b[0m \u001b[0;34m\u001b[0m\u001b[0m\n\u001b[0;32m---> 95\u001b[0;31m             \u001b[0;32mfor\u001b[0m \u001b[0mneighbor\u001b[0m \u001b[0;32min\u001b[0m \u001b[0mcell_neighbors\u001b[0m\u001b[0;34m:\u001b[0m\u001b[0;34m\u001b[0m\u001b[0;34m\u001b[0m\u001b[0m\n\u001b[0m\u001b[1;32m     96\u001b[0m                 \u001b[0;31m#add neihbors to list if they in the bounds of the box\u001b[0m\u001b[0;34m\u001b[0m\u001b[0;34m\u001b[0m\u001b[0;34m\u001b[0m\u001b[0m\n\u001b[1;32m     97\u001b[0m                 \u001b[0;32mif\u001b[0m \u001b[0;34m(\u001b[0m\u001b[0mneighbor\u001b[0m\u001b[0;34m[\u001b[0m\u001b[0;36m0\u001b[0m\u001b[0;34m]\u001b[0m \u001b[0;34m>=\u001b[0m \u001b[0;36m0\u001b[0m \u001b[0;32mand\u001b[0m \u001b[0mneighbor\u001b[0m\u001b[0;34m[\u001b[0m\u001b[0;36m0\u001b[0m\u001b[0;34m]\u001b[0m \u001b[0;34m<=\u001b[0m \u001b[0mlength\u001b[0m\u001b[0;34m-\u001b[0m\u001b[0;36m1\u001b[0m\u001b[0;34m)\u001b[0m \u001b[0;32mand\u001b[0m \u001b[0;34m(\u001b[0m\u001b[0mneighbor\u001b[0m\u001b[0;34m[\u001b[0m\u001b[0;36m1\u001b[0m\u001b[0;34m]\u001b[0m \u001b[0;34m>=\u001b[0m \u001b[0;36m0\u001b[0m \u001b[0;32mand\u001b[0m \u001b[0mneighbor\u001b[0m\u001b[0;34m[\u001b[0m\u001b[0;36m1\u001b[0m\u001b[0;34m]\u001b[0m \u001b[0;34m<=\u001b[0m \u001b[0mlength\u001b[0m\u001b[0;34m-\u001b[0m\u001b[0;36m1\u001b[0m\u001b[0;34m)\u001b[0m\u001b[0;34m:\u001b[0m\u001b[0;34m\u001b[0m\u001b[0;34m\u001b[0m\u001b[0m\n",
      "\u001b[0;31mKeyboardInterrupt\u001b[0m: "
     ]
    }
   ],
   "source": [
    "%%time\n",
    "kt_sweep =[]\n",
    "for i in range(35):\n",
    "    \n",
    "    sim = Simulation(grid_size=10,\n",
    "                     number_of_polymers = 5,\n",
    "                     length_of_polymers = 10,\n",
    "                     warm_up_steps = 10000,\n",
    "                     wriggles_per_step = 1,\n",
    "                     steps= 500000,\n",
    "                     write=10000,\n",
    "                     kt=.5 + i *.1)\n",
    "    sim.run()\n",
    "    kt_sweep.append(sim)"
   ]
  },
  {
   "cell_type": "code",
   "execution_count": 9,
   "id": "15ab5a25",
   "metadata": {},
   "outputs": [
    {
     "data": {
      "text/plain": [
       "[<__main__.Simulation at 0x7f982c5f7450>,\n",
       " <__main__.Simulation at 0x7f982c5ff150>,\n",
       " <__main__.Simulation at 0x7f982c5d4490>,\n",
       " <__main__.Simulation at 0x7f982c242350>,\n",
       " <__main__.Simulation at 0x7f982c5e8b50>,\n",
       " <__main__.Simulation at 0x7f982c5e8950>,\n",
       " <__main__.Simulation at 0x7f982c2f3a50>,\n",
       " <__main__.Simulation at 0x7f982c5fff10>,\n",
       " <__main__.Simulation at 0x7f982c5c6590>,\n",
       " <__main__.Simulation at 0x7f982c5e8890>,\n",
       " <__main__.Simulation at 0x7f982ae53510>,\n",
       " <__main__.Simulation at 0x7f982b8dca10>,\n",
       " <__main__.Simulation at 0x7f982c5d43d0>]"
      ]
     },
     "execution_count": 9,
     "metadata": {},
     "output_type": "execute_result"
    }
   ],
   "source": [
    "kt_sweep"
   ]
  },
  {
   "cell_type": "code",
   "execution_count": 22,
   "id": "5a7a696e",
   "metadata": {},
   "outputs": [
    {
     "data": {
      "text/plain": [
       "0.6"
      ]
     },
     "execution_count": 22,
     "metadata": {},
     "output_type": "execute_result"
    }
   ],
   "source": []
  },
  {
   "cell_type": "code",
   "execution_count": 10,
   "id": "b082fd74",
   "metadata": {},
   "outputs": [
    {
     "name": "stdout",
     "output_type": "stream",
     "text": [
      "(50.0, 50.0, 1)\n",
      "(50.0, 50.0, 1)\n",
      "(30.0, 25.0, 2)\n",
      "(29.0, 24.5, 2)\n",
      "(30.0, 25.0, 2)\n",
      "(50.0, 50.0, 1)\n",
      "(50.0, 50.0, 1)\n",
      "(50.0, 50.0, 1)\n",
      "(40.0, 25.0, 2)\n",
      "(40.0, 25.0, 2)\n",
      "(30.0, 25.0, 2)\n",
      "(30.0, 25.0, 2)\n",
      "(40.0, 25.0, 2)\n"
     ]
    }
   ],
   "source": [
    "for x in kt_sweep:\n",
    "    print(x.system.return_largest_polymer_cluster_area())"
   ]
  },
  {
   "cell_type": "code",
   "execution_count": 12,
   "id": "d5c7f78f",
   "metadata": {},
   "outputs": [
    {
     "data": {
      "text/plain": [
       "array([[1, 1, 1, 1, 1, 1, 1, 1, 0, 0],\n",
       "       [1, 1, 1, 1, 1, 1, 1, 1, 0, 0],\n",
       "       [1, 1, 1, 0, 0, 0, 0, 0, 0, 0],\n",
       "       [1, 1, 1, 0, 0, 0, 0, 1, 1, 1],\n",
       "       [1, 1, 1, 0, 0, 1, 1, 1, 1, 1],\n",
       "       [1, 1, 0, 0, 1, 1, 1, 1, 1, 1],\n",
       "       [1, 1, 0, 0, 1, 1, 1, 1, 1, 1],\n",
       "       [0, 0, 0, 0, 0, 0, 0, 0, 0, 0],\n",
       "       [0, 0, 0, 0, 0, 0, 0, 0, 0, 0],\n",
       "       [0, 0, 0, 0, 0, 0, 0, 0, 0, 0]])"
      ]
     },
     "execution_count": 12,
     "metadata": {},
     "output_type": "execute_result"
    }
   ],
   "source": [
    "kt_sweep[3].system.data"
   ]
  },
  {
   "cell_type": "code",
   "execution_count": 20,
   "id": "2a5a834d",
   "metadata": {},
   "outputs": [
    {
     "data": {
      "text/plain": [
       "0"
      ]
     },
     "execution_count": 20,
     "metadata": {},
     "output_type": "execute_result"
    }
   ],
   "source": [
    "random.randint(0,1)"
   ]
  },
  {
   "cell_type": "code",
   "execution_count": 115,
   "id": "347902a4",
   "metadata": {},
   "outputs": [
    {
     "data": {
      "text/plain": [
       "range(0, 5)"
      ]
     },
     "execution_count": 115,
     "metadata": {},
     "output_type": "execute_result"
    }
   ],
   "source": [
    "range(5)\n"
   ]
  },
  {
   "cell_type": "code",
   "execution_count": 116,
   "id": "2ab7df33",
   "metadata": {},
   "outputs": [
    {
     "name": "stdout",
     "output_type": "stream",
     "text": [
      "0\n",
      "1\n",
      "2\n",
      "3\n",
      "4\n"
     ]
    }
   ],
   "source": [
    "for i in range(5):\n",
    "    print(str(i))"
   ]
  },
  {
   "cell_type": "code",
   "execution_count": 17,
   "id": "3cb318b2",
   "metadata": {},
   "outputs": [
    {
     "data": {
      "text/plain": [
       "0.5091703718192151"
      ]
     },
     "execution_count": 17,
     "metadata": {},
     "output_type": "execute_result"
    }
   ],
   "source": [
    "random.uniform(0,1)"
   ]
  },
  {
   "cell_type": "code",
   "execution_count": 55,
   "id": "a2702127",
   "metadata": {},
   "outputs": [],
   "source": [
    "sys = System(10)\n",
    "sys.add_polymers(5,10)"
   ]
  },
  {
   "cell_type": "code",
   "execution_count": 56,
   "id": "f71e4ee0",
   "metadata": {},
   "outputs": [],
   "source": [
    "sys.wriggle(10000)"
   ]
  },
  {
   "cell_type": "code",
   "execution_count": 57,
   "id": "1a6e7702",
   "metadata": {},
   "outputs": [
    {
     "data": {
      "text/plain": [
       "array([[0, 0, 3, 3, 4, 4, 4, 1, 1, 1],\n",
       "       [0, 0, 3, 2, 2, 0, 4, 1, 1, 1],\n",
       "       [0, 0, 3, 2, 2, 0, 4, 5, 1, 1],\n",
       "       [0, 3, 3, 3, 2, 2, 4, 5, 1, 1],\n",
       "       [0, 3, 3, 3, 2, 2, 4, 5, 0, 0],\n",
       "       [0, 0, 0, 0, 2, 2, 4, 5, 5, 5],\n",
       "       [0, 0, 0, 0, 0, 0, 4, 0, 0, 5],\n",
       "       [0, 0, 0, 0, 0, 0, 4, 0, 0, 5],\n",
       "       [0, 0, 0, 0, 0, 0, 0, 0, 0, 5],\n",
       "       [0, 0, 0, 0, 0, 0, 0, 0, 0, 5]])"
      ]
     },
     "execution_count": 57,
     "metadata": {},
     "output_type": "execute_result"
    }
   ],
   "source": [
    "sys.data"
   ]
  },
  {
   "cell_type": "code",
   "execution_count": null,
   "id": "e16591ab",
   "metadata": {},
   "outputs": [],
   "source": []
  }
 ],
 "metadata": {
  "kernelspec": {
   "display_name": "Python 3",
   "language": "python",
   "name": "python3"
  },
  "language_info": {
   "codemirror_mode": {
    "name": "ipython",
    "version": 3
   },
   "file_extension": ".py",
   "mimetype": "text/x-python",
   "name": "python",
   "nbconvert_exporter": "python",
   "pygments_lexer": "ipython3",
   "version": "3.7.10"
  }
 },
 "nbformat": 4,
 "nbformat_minor": 5
}
